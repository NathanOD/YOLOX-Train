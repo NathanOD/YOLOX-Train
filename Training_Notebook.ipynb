{
  "cells": [
    {
      "cell_type": "markdown",
      "metadata": {
        "id": "92PyrU1tnnsH"
      },
      "source": [
        "# Preparation"
      ]
    },
    {
      "cell_type": "markdown",
      "metadata": {
        "id": "s0OnqjL6nMTt"
      },
      "source": [
        "Intall prerequisites for YOLOX and check if you're using CPU or GPU."
      ]
    },
    {
      "cell_type": "code",
      "execution_count": null,
      "metadata": {
        "id": "S67Jud8kQbSu"
      },
      "outputs": [],
      "source": [
        "# Clone the repo and install modules\n",
        "!git clone https://github.com/Megvii-BaseDetection/YOLOX\n",
        "%cd YOLOX\n",
        "!pip install -qr requirements.txt\n",
        "!pip install -q -v -e .\n",
        "!pip install -q cython\n",
        "!pip install -q 'git+https://github.com/cocodataset/cocoapi.git#subdirectory=PythonAPI'"
      ]
    },
    {
      "cell_type": "code",
      "execution_count": null,
      "metadata": {
        "id": "xPZgyWIBnZNy"
      },
      "outputs": [],
      "source": [
        "import torch\n",
        "print('Torch device : %s' % (torch.cuda.get_device_properties(0) if torch.cuda.is_available() else 'No GPU aviable'))"
      ]
    },
    {
      "cell_type": "markdown",
      "metadata": {
        "id": "epFEG2hhn4_x"
      },
      "source": [
        "# Download and prepare dataset"
      ]
    },
    {
      "cell_type": "markdown",
      "metadata": {
        "id": "_js9F8PRp6xO"
      },
      "source": [
        "Download your VOC datset to your colab environment.\n",
        "\n",
        "You can make your own dataset using Roboflow online tool : https://app.roboflow.com\n",
        "\n",
        "Export it (Pascal VOC type) and paste the link in the following cell :"
      ]
    },
    {
      "cell_type": "code",
      "execution_count": null,
      "metadata": {
        "id": "OJzm_uO9QiX_"
      },
      "outputs": [],
      "source": [
        "# Skip this cell if you don't have a ready dataset\n",
        "!curl -L \"https://app.roboflow.com/ds/XXXXXXXXXXXXXXXXXXXXXXXXX\" > roboflow.zip; unzip roboflow.zip; rm roboflow.zip"
      ]
    },
    {
      "cell_type": "markdown",
      "metadata": {
        "id": "3vNHaYLBtg2w"
      },
      "source": [
        "For this example, we'll be using Aquarium Dataset made by Roboflow : https://public.roboflow.com/object-detection/aquarium , downloaded directly from this github repository"
      ]
    },
    {
      "cell_type": "code",
      "execution_count": null,
      "metadata": {
        "id": "jvvUqrnstXbw"
      },
      "outputs": [],
      "source": [
        "# Only necessary for the example\n",
        "# Do not launch this cell if you use your own dataset\n",
        "%cd /content\n",
        "!mkdir YOLOX/train\n",
        "!mkdir YOLOX/valid\n",
        "!git clone https://github.com/NathanOD/YOLOX-Train\n",
        "!cp -rf /content/YOLOX-Train/train/*.jpg /content/YOLOX/train\n",
        "!cp -rf /content/YOLOX-Train/valid/*.jpg /content/YOLOX/valid"
      ]
    },
    {
      "cell_type": "code",
      "execution_count": null,
      "metadata": {
        "id": "_stAGYgtQx8t"
      },
      "outputs": [],
      "source": [
        "# Convert your VOC dataset to COCO format\n",
        "!git clone https://github.com/Kazuhito00/convert_voc_to_coco.git\n",
        "!python convert_voc_to_coco/convert_voc_to_coco.py \\\n",
        "    train train/instances_train2017.json \\\n",
        "    --start_image_id=0\n",
        "!python convert_voc_to_coco/convert_voc_to_coco.py \\\n",
        "    valid validation/instances_val2017.json \\\n",
        "    --start_image_id=10000000"
      ]
    },
    {
      "cell_type": "code",
      "execution_count": null,
      "metadata": {
        "id": "91_Rj1gnQ5Jy"
      },
      "outputs": [],
      "source": [
        "!mkdir datasets/COCO\n",
        "!mkdir datasets/COCO/train2017\n",
        "!mkdir datasets/COCO/val2017\n",
        "!mkdir datasets/COCO/annotations\n",
        "\n",
        "!cp -rf train/*.jpg datasets/COCO/train2017\n",
        "!cp -rf valid/*.jpg datasets/COCO/val2017\n",
        "!cp -rf train/instances_train2017.json datasets/COCO/annotations\n",
        "!cp -rf validation/instances_val2017.json datasets/COCO/annotations"
      ]
    },
    {
      "cell_type": "markdown",
      "metadata": {
        "id": "AfM2z-rdoVT6"
      },
      "source": [
        "Now you have to modify your config file to set some parameters like `num_classes` or `max_epochs`."
      ]
    },
    {
      "cell_type": "code",
      "execution_count": null,
      "metadata": {
        "id": "xrq9XGK3mp1_"
      },
      "outputs": [],
      "source": [
        "# config modification to train the model\n",
        "import os\n",
        "from IPython.core.magic import register_line_cell_magic\n",
        "\n",
        "@register_line_cell_magic\n",
        "def writetemplate(line, cell):\n",
        "    with open(line, 'w') as f:\n",
        "        f.write(cell.format(**globals()))"
      ]
    },
    {
      "cell_type": "code",
      "execution_count": null,
      "metadata": {
        "id": "Ip1HVNyWmqbA"
      },
      "outputs": [],
      "source": [
        "%%writetemplate /content/YOLOX/exps/default/yolox_m.py\n",
        "\n",
        "import os\n",
        "\n",
        "from yolox.exp import Exp as MyExp\n",
        "\n",
        "\n",
        "class Exp(MyExp):\n",
        "    def __init__(self):\n",
        "        super(Exp, self).__init__()\n",
        "        self.depth = 0.67\n",
        "        self.width = 0.75\n",
        "        self.num_classes = 7\n",
        "        self.max_epoch = 40\n",
        "        self.basic_lr_per_img = 0.01 / 64.0\n",
        "        self.exp_name = os.path.split(os.path.realpath(__file__))[1].split(\".\")[0]"
      ]
    },
    {
      "cell_type": "markdown",
      "metadata": {
        "id": "p_qgbJhyooal"
      },
      "source": [
        "# Download Weights"
      ]
    },
    {
      "cell_type": "markdown",
      "metadata": {
        "id": "r6A_Lmn8o-Nf"
      },
      "source": [
        "These weights are pretrained on COCO dataset."
      ]
    },
    {
      "cell_type": "code",
      "execution_count": null,
      "metadata": {
        "id": "OSWbzaYMmwhX"
      },
      "outputs": [],
      "source": [
        "%cd /content/YOLOX/\n",
        "!wget https://github.com/Megvii-BaseDetection/YOLOX/releases/download/0.1.1rc0/yolox_m.pth"
      ]
    },
    {
      "cell_type": "markdown",
      "metadata": {
        "id": "3JKw_E4lo4iy"
      },
      "source": [
        "# Training"
      ]
    },
    {
      "cell_type": "code",
      "execution_count": null,
      "metadata": {
        "id": "QnSFouxNfdVv"
      },
      "outputs": [],
      "source": [
        "# Install wandb if you want to track training results\n",
        "!pip install -q wandb\n",
        "import wandb\n",
        "wandb.login()"
      ]
    },
    {
      "cell_type": "markdown",
      "metadata": {
        "id": "8YiLOKPOpvXl"
      },
      "source": [
        "You may have ton change batch size `-b` if you're trainig another YOLOX model."
      ]
    },
    {
      "cell_type": "code",
      "execution_count": null,
      "metadata": {
        "id": "g2Y347IJnTF-"
      },
      "outputs": [],
      "source": [
        "!python tools/train.py \\\n",
        "    -f exps/default/yolox_m.py \\\n",
        "    -d 1 \\\n",
        "    -b 16 \\\n",
        "    --fp16 \\\n",
        "    -o \\\n",
        "    -c yolox_m.pth"
      ]
    },
    {
      "cell_type": "markdown",
      "metadata": {
        "id": "6zm64aw7pHcA"
      },
      "source": [
        "# Testing weights"
      ]
    },
    {
      "cell_type": "markdown",
      "metadata": {
        "id": "OGiaklR3rBsi"
      },
      "source": [
        "Now it's time to check if your weights trained well !"
      ]
    },
    {
      "cell_type": "code",
      "execution_count": null,
      "metadata": {
        "id": "zFNlmENeRddF"
      },
      "outputs": [],
      "source": [
        "!python tools/demo.py image \\\n",
        "    -f exps/default/yolox_m.py \\\n",
        "    -c /content/YOLOX/YOLOX_outputs/yolox_m/best_ckpt.pth \\\n",
        "    --path /path/to/your/image \\\n",
        "    --conf 0.25 \\\n",
        "    --nms 0.45 \\\n",
        "    --tsize 640 \\\n",
        "    --save_result \\\n",
        "    --device gpu"
      ]
    }
  ],
  "metadata": {
    "accelerator": "GPU",
    "colab": {
      "collapsed_sections": [],
      "name": "Copie de YOLOX.ipynb",
      "provenance": []
    },
    "gpuClass": "standard",
    "kernelspec": {
      "display_name": "Python 3",
      "name": "python3"
    },
    "language_info": {
      "name": "python"
    }
  },
  "nbformat": 4,
  "nbformat_minor": 0
}
