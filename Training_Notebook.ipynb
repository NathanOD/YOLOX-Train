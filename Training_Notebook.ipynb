{
  "nbformat": 4,
  "nbformat_minor": 0,
  "metadata": {
    "colab": {
      "name": "Copie de YOLOX.ipynb",
      "provenance": [],
      "collapsed_sections": []
    },
    "kernelspec": {
      "name": "python3",
      "display_name": "Python 3"
    },
    "language_info": {
      "name": "python"
    },
    "accelerator": "GPU",
    "gpuClass": "standard"
  },
  "cells": [
    {
      "cell_type": "markdown",
      "source": [
        "# Preparation"
      ],
      "metadata": {
        "id": "92PyrU1tnnsH"
      }
    },
    {
      "cell_type": "markdown",
      "source": [
        "Intall prerequisites for YOLOX and check if you're using CPU or GPU."
      ],
      "metadata": {
        "id": "s0OnqjL6nMTt"
      }
    },
    {
      "cell_type": "code",
      "execution_count": null,
      "metadata": {
        "id": "S67Jud8kQbSu"
      },
      "outputs": [],
      "source": [
        "# Clone the repo and install modules\n",
        "!git clone https://github.com/Megvii-BaseDetection/YOLOX\n",
        "%cd YOLOX\n",
        "!pip install -qr requirements.txt\n",
        "!pip install -q -v -e .\n",
        "!pip install -q cython\n",
        "!pip install -q 'git+https://github.com/cocodataset/cocoapi.git#subdirectory=PythonAPI'"
      ]
    },
    {
      "cell_type": "code",
      "source": [
        "import torch\n",
        "print('Torch device : %s' % (torch.cuda.get_device_properties(0) if torch.cuda.is_available() else 'No GPU aviable'))"
      ],
      "metadata": {
        "id": "xPZgyWIBnZNy"
      },
      "execution_count": null,
      "outputs": []
    },
    {
      "cell_type": "markdown",
      "source": [
        "# Download and prepare dataset"
      ],
      "metadata": {
        "id": "epFEG2hhn4_x"
      }
    },
    {
      "cell_type": "markdown",
      "source": [
        "Download your VOC datset to your colab environment.\n",
        "\n",
        "You can make your own dataset using Roboflow online tool : https://app.roboflow.com\n",
        "\n",
        "Export it (Pascal VOC type) and paste the link in the following cell :"
      ],
      "metadata": {
        "id": "_js9F8PRp6xO"
      }
    },
    {
      "cell_type": "code",
      "source": [
        "# Skip this cell if you don't have a ready dataset\n",
        "!curl -L \"https://app.roboflow.com/ds/XXXXXXXXXXXXXXXXXXXXXXXXX\" > roboflow.zip; unzip roboflow.zip; rm roboflow.zip"
      ],
      "metadata": {
        "id": "OJzm_uO9QiX_"
      },
      "execution_count": null,
      "outputs": []
    },
    {
      "cell_type": "markdown",
      "source": [
        "For this example, we'll be using Aquarium Dataset made by Roboflow : https://public.roboflow.com/object-detection/aquarium , downloaded directly from this github repository"
      ],
      "metadata": {
        "id": "3vNHaYLBtg2w"
      }
    },
    {
      "cell_type": "code",
      "source": [
        "# Only necessary for the example\n",
        "# Do not launch this cell if you use your own dataset\n",
        "%cd /content\n",
        "!mkdir YOLOX/train\n",
        "!mkdir YOLOX/valid\n",
        "!git clone https://github.com/NathanOD/YOLOX-Train\n",
        "!cp -rf /content/YOLOX-Train/train/*.jpg /content/YOLOX/train\n",
        "!cp -rf /content/YOLOX-Train/train/*.xml /content/YOLOX/train\n",
        "!cp -rf /content/YOLOX-Train/valid/*.jpg /content/YOLOX/valid\n",
        "!cp -rf /content/YOLOX-Train/valid/*.xml /content/YOLOX/valid"
      ],
      "metadata": {
        "id": "jvvUqrnstXbw"
      },
      "execution_count": null,
      "outputs": []
    },
    {
      "cell_type": "code",
      "source": [
        "# Convert your VOC dataset to COCO format\n",
        "%cd /content/YOLOX\n",
        "!git clone https://github.com/Kazuhito00/convert_voc_to_coco.git\n",
        "!python convert_voc_to_coco/convert_voc_to_coco.py \\\n",
        "    train train/instances_train2017.json \\\n",
        "    --start_image_id=0\n",
        "!python convert_voc_to_coco/convert_voc_to_coco.py \\\n",
        "    valid validation/instances_val2017.json \\\n",
        "    --start_image_id=10000000"
      ],
      "metadata": {
        "id": "_stAGYgtQx8t"
      },
      "execution_count": null,
      "outputs": []
    },
    {
      "cell_type": "code",
      "source": [
        "!mkdir datasets/COCO\n",
        "!mkdir datasets/COCO/train2017\n",
        "!mkdir datasets/COCO/val2017\n",
        "!mkdir datasets/COCO/annotations\n",
        "\n",
        "!cp -rf train/*.jpg datasets/COCO/train2017\n",
        "!cp -rf valid/*.jpg datasets/COCO/val2017\n",
        "!cp -rf train/instances_train2017.json datasets/COCO/annotations\n",
        "!cp -rf validation/instances_val2017.json datasets/COCO/annotations"
      ],
      "metadata": {
        "id": "91_Rj1gnQ5Jy"
      },
      "execution_count": 5,
      "outputs": []
    },
    {
      "cell_type": "markdown",
      "source": [
        "Now you have to modify your config file to set some parameters like `num_classes` or `max_epochs`."
      ],
      "metadata": {
        "id": "AfM2z-rdoVT6"
      }
    },
    {
      "cell_type": "code",
      "source": [
        "# config modification to train the model\n",
        "import os\n",
        "from IPython.core.magic import register_line_cell_magic\n",
        "\n",
        "@register_line_cell_magic\n",
        "def writetemplate(line, cell):\n",
        "    with open(line, 'w') as f:\n",
        "        f.write(cell.format(**globals()))"
      ],
      "metadata": {
        "id": "xrq9XGK3mp1_"
      },
      "execution_count": 6,
      "outputs": []
    },
    {
      "cell_type": "code",
      "source": [
        "%%writetemplate /content/YOLOX/exps/default/yolox_m.py\n",
        "\n",
        "import os\n",
        "\n",
        "from yolox.exp import Exp as MyExp\n",
        "\n",
        "\n",
        "class Exp(MyExp):\n",
        "    def __init__(self):\n",
        "        super(Exp, self).__init__()\n",
        "        self.depth = 0.67\n",
        "        self.width = 0.75\n",
        "        self.num_classes = 7\n",
        "        self.max_epoch = 40\n",
        "        self.basic_lr_per_img = 0.01 / 64.0\n",
        "        self.exp_name = os.path.split(os.path.realpath(__file__))[1].split(\".\")[0]"
      ],
      "metadata": {
        "id": "Ip1HVNyWmqbA"
      },
      "execution_count": 7,
      "outputs": []
    },
    {
      "cell_type": "markdown",
      "source": [
        "# Download Weights"
      ],
      "metadata": {
        "id": "p_qgbJhyooal"
      }
    },
    {
      "cell_type": "markdown",
      "source": [
        "These weights are pretrained on COCO dataset."
      ],
      "metadata": {
        "id": "r6A_Lmn8o-Nf"
      }
    },
    {
      "cell_type": "code",
      "source": [
        "%cd /content/YOLOX/\n",
        "!wget https://github.com/Megvii-BaseDetection/YOLOX/releases/download/0.1.1rc0/yolox_m.pth"
      ],
      "metadata": {
        "id": "OSWbzaYMmwhX"
      },
      "execution_count": null,
      "outputs": []
    },
    {
      "cell_type": "markdown",
      "source": [
        "# Training"
      ],
      "metadata": {
        "id": "3JKw_E4lo4iy"
      }
    },
    {
      "cell_type": "code",
      "source": [
        "# Install wandb if you want to track training results\n",
        "!pip install -q wandb\n",
        "import wandb\n",
        "wandb.login()"
      ],
      "metadata": {
        "id": "QnSFouxNfdVv"
      },
      "execution_count": null,
      "outputs": []
    },
    {
      "cell_type": "markdown",
      "source": [
        "You may have ton change batch size `-b` if you're trainig another YOLOX model."
      ],
      "metadata": {
        "id": "8YiLOKPOpvXl"
      }
    },
    {
      "cell_type": "code",
      "source": [
        "!python tools/train.py \\\n",
        "    -f exps/default/yolox_m.py \\\n",
        "    -d 1 \\\n",
        "    -b 16 \\\n",
        "    --fp16 \\\n",
        "    -o \\\n",
        "    -c yolox_m.pth"
      ],
      "metadata": {
        "id": "g2Y347IJnTF-"
      },
      "execution_count": null,
      "outputs": []
    },
    {
      "cell_type": "markdown",
      "source": [
        "# Testing weights"
      ],
      "metadata": {
        "id": "6zm64aw7pHcA"
      }
    },
    {
      "cell_type": "markdown",
      "source": [
        "Now it's time to check if your weights trained well !"
      ],
      "metadata": {
        "id": "OGiaklR3rBsi"
      }
    },
    {
      "cell_type": "code",
      "source": [
        "!python tools/demo.py image \\\n",
        "    -f exps/default/yolox_m.py \\\n",
        "    -c /content/YOLOX/YOLOX_outputs/yolox_m/best_ckpt.pth \\\n",
        "    --path /path/to/your/image \\\n",
        "    --conf 0.25 \\\n",
        "    --nms 0.45 \\\n",
        "    --tsize 640 \\\n",
        "    --save_result \\\n",
        "    --device gpu"
      ],
      "metadata": {
        "id": "zFNlmENeRddF"
      },
      "execution_count": null,
      "outputs": []
    }
  ]
}